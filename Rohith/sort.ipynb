{
 "cells": [
  {
   "cell_type": "code",
   "execution_count": 49,
   "metadata": {},
   "outputs": [
    {
     "name": "stdout",
     "output_type": "stream",
     "text": [
      "Radix Sort Time: 0.01572 seconds.\n"
     ]
    }
   ],
   "source": [
    "def counting_sort(arr, exp):\n",
    "    n = len(arr)\n",
    "    output = [0] * n\n",
    "    count = [0] * 10  # Since we are sorting digits 0-9\n",
    "\n",
    "    # Count occurrences of each digit at exp position\n",
    "    for i in range(n):\n",
    "        index = (arr[i] // exp) % 10\n",
    "        count[index] += 1\n",
    "\n",
    "    # Update count[i] to store actual positions\n",
    "    for i in range(1, 10):\n",
    "        count[i] += count[i - 1]\n",
    "\n",
    "    # Build the sorted output array\n",
    "    for i in range(n - 1, -1, -1):\n",
    "        index = (arr[i] // exp) % 10\n",
    "        output[count[index] - 1] = arr[i]\n",
    "        count[index] -= 1\n",
    "\n",
    "    # Copy sorted elements back to arr\n",
    "    for i in range(n):\n",
    "        arr[i] = output[i]\n",
    "\n",
    "def radix_sort(arr):\n",
    "    max_num = max(arr)  # Find the maximum number\n",
    "    exp = 1\n",
    "    while max_num // exp > 0:\n",
    "        counting_sort(arr, exp)\n",
    "        exp *= 10\n",
    "\n",
    "# Generate an array of 10,000 random integers\n",
    "arr_radix = arr_quick[:]  # Use the same numbers for fair comparison\n",
    "\n",
    "# Measure Radix Sort execution time\n",
    "start_time = time.time()\n",
    "radix_sort(arr_radix)\n",
    "end_time = time.time()\n",
    "\n",
    "print(\"Radix Sort Time:\", round(end_time - start_time, 5), \"seconds.\")\n"
   ]
  },
  {
   "cell_type": "code",
   "execution_count": 52,
   "metadata": {},
   "outputs": [
    {
     "name": "stdout",
     "output_type": "stream",
     "text": [
      "QuickSort Time: 0.01628 seconds.\n"
     ]
    }
   ],
   "source": [
    "import random\n",
    "import time\n",
    "\n",
    "def quick_sort(arr):\n",
    "    if len(arr) <= 1:\n",
    "        return arr\n",
    "    pivot = arr[len(arr) // 2]  # Choosing middle element as pivot\n",
    "    left = [x for x in arr if x < pivot]\n",
    "    middle = [x for x in arr if x == pivot]\n",
    "    right = [x for x in arr if x > pivot]\n",
    "    return quick_sort(left) + middle + quick_sort(right)\n",
    "\n",
    "# Generate an array of 10,000 random integers\n",
    "arr_quick = [random.randint(1, 1000000) for _ in range(10000)]\n",
    "\n",
    "# Measure QuickSort execution time\n",
    "start_time = time.time()\n",
    "sorted_quick = quick_sort(arr_quick)  # Using recursive QuickSort\n",
    "end_time = time.time()\n",
    "\n",
    "print(\"QuickSort Time:\", round(end_time - start_time, 5), \"seconds.\")\n"
   ]
  }
 ],
 "metadata": {
  "kernelspec": {
   "display_name": "Python 3",
   "language": "python",
   "name": "python3"
  },
  "language_info": {
   "codemirror_mode": {
    "name": "ipython",
    "version": 3
   },
   "file_extension": ".py",
   "mimetype": "text/x-python",
   "name": "python",
   "nbconvert_exporter": "python",
   "pygments_lexer": "ipython3",
   "version": "3.12.1"
  }
 },
 "nbformat": 4,
 "nbformat_minor": 2
}
